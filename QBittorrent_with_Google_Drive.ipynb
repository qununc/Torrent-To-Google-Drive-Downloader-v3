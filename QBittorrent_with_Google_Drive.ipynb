{
  "nbformat": 4,
  "nbformat_minor": 0,
  "metadata": {
    "colab": {
      "name": "QBittorrent with Google Drive.ipynb",
      "provenance": [],
      "collapsed_sections": [],
      "include_colab_link": true
    },
    "kernelspec": {
      "name": "python3",
      "display_name": "Python 3"
    },
    "language_info": {
      "name": "python"
    }
  },
  "cells": [
    {
      "cell_type": "markdown",
      "metadata": {
        "id": "view-in-github",
        "colab_type": "text"
      },
      "source": [
        "<a href=\"https://colab.research.google.com/github/qununc/Torrent-To-Google-Drive-Downloader-v3/blob/master/QBittorrent_with_Google_Drive.ipynb\" target=\"_parent\"><img src=\"https://colab.research.google.com/assets/colab-badge.svg\" alt=\"Open In Colab\"/></a>"
      ]
    },
    {
      "cell_type": "code",
      "metadata": {
        "id": "-X-znhOk6hV2",
        "colab": {
          "base_uri": "https://localhost:8080/"
        },
        "outputId": "9555d92d-5e1c-4c29-f5c4-df183bfb82cc"
      },
      "source": [
        "from google.colab import drive\n",
        "drive.mount('/content/drive/')"
      ],
      "execution_count": null,
      "outputs": [
        {
          "output_type": "stream",
          "text": [
            "Mounted at /content/drive/\n"
          ],
          "name": "stdout"
        }
      ]
    },
    {
      "cell_type": "code",
      "metadata": {
        "id": "A8BZ0ApJ6rZH",
        "colab": {
          "base_uri": "https://localhost:8080/"
        },
        "outputId": "71eb2355-35ae-48ac-cf85-a74f9c9eafcd"
      },
      "source": [
        "!add-apt-repository ppa:qbittorrent-team/qbittorrent-stable -y\n",
        "!apt install qbittorrent-nox"
      ],
      "execution_count": null,
      "outputs": [
        {
          "output_type": "stream",
          "text": [
            "\r0% [Working]\r            \rGet:1 https://cloud.r-project.org/bin/linux/ubuntu bionic-cran40/ InRelease [3,626 B]\n",
            "\r0% [Connecting to archive.ubuntu.com] [Connecting to security.ubuntu.com] [1 In\r0% [Connecting to archive.ubuntu.com] [Connecting to security.ubuntu.com] [Conn\r0% [1 InRelease gpgv 3,626 B] [Connecting to archive.ubuntu.com] [Connecting to\r                                                                               \rIgn:2 https://developer.download.nvidia.com/compute/cuda/repos/ubuntu1804/x86_64  InRelease\n",
            "\r0% [1 InRelease gpgv 3,626 B] [Connecting to archive.ubuntu.com (91.189.88.142)\r                                                                               \rIgn:3 https://developer.download.nvidia.com/compute/machine-learning/repos/ubuntu1804/x86_64  InRelease\n",
            "\r0% [1 InRelease gpgv 3,626 B] [Connecting to archive.ubuntu.com (91.189.88.142)\r                                                                               \rHit:4 https://developer.download.nvidia.com/compute/cuda/repos/ubuntu1804/x86_64  Release\n",
            "Hit:5 https://developer.download.nvidia.com/compute/machine-learning/repos/ubuntu1804/x86_64  Release\n",
            "Get:6 http://security.ubuntu.com/ubuntu bionic-security InRelease [88.7 kB]\n",
            "Hit:7 http://archive.ubuntu.com/ubuntu bionic InRelease\n",
            "Get:8 http://ppa.launchpad.net/c2d4u.team/c2d4u4.0+/ubuntu bionic InRelease [15.9 kB]\n",
            "Get:9 http://archive.ubuntu.com/ubuntu bionic-updates InRelease [88.7 kB]\n",
            "Hit:12 http://ppa.launchpad.net/cran/libgit2/ubuntu bionic InRelease\n",
            "Get:13 http://archive.ubuntu.com/ubuntu bionic-backports InRelease [74.6 kB]\n",
            "Hit:14 http://ppa.launchpad.net/deadsnakes/ppa/ubuntu bionic InRelease\n",
            "Get:15 http://security.ubuntu.com/ubuntu bionic-security/universe amd64 Packages [1,402 kB]\n",
            "Get:16 http://ppa.launchpad.net/graphics-drivers/ppa/ubuntu bionic InRelease [21.3 kB]\n",
            "Get:17 http://security.ubuntu.com/ubuntu bionic-security/main amd64 Packages [2,045 kB]\n",
            "Get:18 http://security.ubuntu.com/ubuntu bionic-security/restricted amd64 Packages [348 kB]\n",
            "Get:19 http://ppa.launchpad.net/qbittorrent-team/qbittorrent-stable/ubuntu bionic InRelease [15.9 kB]\n",
            "Get:20 http://archive.ubuntu.com/ubuntu bionic-updates/universe amd64 Packages [2,170 kB]\n",
            "Get:21 http://ppa.launchpad.net/c2d4u.team/c2d4u4.0+/ubuntu bionic/main Sources [1,748 kB]\n",
            "Get:22 http://archive.ubuntu.com/ubuntu bionic-updates/main amd64 Packages [2,475 kB]\n",
            "Get:23 http://archive.ubuntu.com/ubuntu bionic-updates/restricted amd64 Packages [378 kB]\n",
            "Get:24 http://ppa.launchpad.net/c2d4u.team/c2d4u4.0+/ubuntu bionic/main amd64 Packages [894 kB]\n",
            "Get:25 http://ppa.launchpad.net/graphics-drivers/ppa/ubuntu bionic/main amd64 Packages [49.4 kB]\n",
            "Get:26 http://ppa.launchpad.net/qbittorrent-team/qbittorrent-stable/ubuntu bionic/main amd64 Packages [3,009 B]\n",
            "Fetched 11.8 MB in 5s (2,338 kB/s)\n",
            "Reading package lists... Done\n",
            "Reading package lists... Done\n",
            "Building dependency tree       \n",
            "Reading state information... Done\n",
            "The following additional packages will be installed:\n",
            "  libtorrent-rasterbar10\n",
            "Suggested packages:\n",
            "  libtorrent-rasterbar-dbg qbittorrent-dbg\n",
            "The following NEW packages will be installed:\n",
            "  libtorrent-rasterbar10 qbittorrent-nox\n",
            "0 upgraded, 2 newly installed, 0 to remove and 59 not upgraded.\n",
            "Need to get 6,605 kB of archives.\n",
            "After this operation, 11.0 MB of additional disk space will be used.\n",
            "Get:1 http://ppa.launchpad.net/qbittorrent-team/qbittorrent-stable/ubuntu bionic/main amd64 libtorrent-rasterbar10 amd64 1.2.13+git20210323.34a979720b-1ppa1~18.04 [1,262 kB]\n",
            "Get:2 http://ppa.launchpad.net/qbittorrent-team/qbittorrent-stable/ubuntu bionic/main amd64 qbittorrent-nox amd64 1:4.3.3.99~202101191832-7248-da0b276d5~ubuntu18.04.1 [5,342 kB]\n",
            "Fetched 6,605 kB in 3s (2,626 kB/s)\n",
            "Selecting previously unselected package libtorrent-rasterbar10.\n",
            "(Reading database ... 160980 files and directories currently installed.)\n",
            "Preparing to unpack .../libtorrent-rasterbar10_1.2.13+git20210323.34a979720b-1ppa1~18.04_amd64.deb ...\n",
            "Unpacking libtorrent-rasterbar10 (1.2.13+git20210323.34a979720b-1ppa1~18.04) ...\n",
            "Selecting previously unselected package qbittorrent-nox.\n",
            "Preparing to unpack .../qbittorrent-nox_1%3a4.3.3.99~202101191832-7248-da0b276d5~ubuntu18.04.1_amd64.deb ...\n",
            "Unpacking qbittorrent-nox (1:4.3.3.99~202101191832-7248-da0b276d5~ubuntu18.04.1) ...\n",
            "Setting up libtorrent-rasterbar10 (1.2.13+git20210323.34a979720b-1ppa1~18.04) ...\n",
            "Setting up qbittorrent-nox (1:4.3.3.99~202101191832-7248-da0b276d5~ubuntu18.04.1) ...\n",
            "Processing triggers for man-db (2.8.3-2ubuntu0.1) ...\n",
            "Processing triggers for libc-bin (2.27-3ubuntu1.2) ...\n",
            "/sbin/ldconfig.real: /usr/local/lib/python3.7/dist-packages/ideep4py/lib/libmkldnn.so.0 is not a symbolic link\n",
            "\n"
          ],
          "name": "stdout"
        }
      ]
    },
    {
      "cell_type": "code",
      "metadata": {
        "id": "f6-_u9oV6x9_"
      },
      "source": [
        "\n",
        "TOKEN = \"YOUR_AUTH_CODE (get if from https://dashboard.ngrok.com/auth)\"\n",
        "\n",
        "def install_ngrok():\n",
        "    import os\n",
        "    from zipfile import ZipFile\n",
        "    from urllib.request import urlretrieve\n",
        "    \n",
        "    url = 'https://bin.equinox.io/c/4VmDzA7iaHb/ngrok-stable-linux-amd64.zip'\n",
        "    urlretrieve(url, 'ngrok-amd64.zip')\n",
        "    \n",
        "    with ZipFile('ngrok-amd64.zip', 'r') as zip_ref:\n",
        "        zip_ref.extractall('/usr/local/bin/')\n",
        "    os.chmod('/usr/local/bin/ngrok', 0o755)\n",
        "    os.unlink('ngrok-amd64.zip')\n",
        "\n",
        "install_ngrok()\n",
        "if TOKEN != \"\":\n",
        "    !ngrok authtoken $TOKEN "
      ],
      "execution_count": null,
      "outputs": []
    },
    {
      "cell_type": "code",
      "metadata": {
        "id": "szRLhyLB653_",
        "colab": {
          "base_uri": "https://localhost:8080/"
        },
        "outputId": "e0ae03a4-5c4c-4bdd-c3d9-0618942d48ff"
      },
      "source": [
        "import threading\n",
        "import time\n",
        "import requests\n",
        "import json\n",
        "import subprocess\n",
        "\n",
        "def torrent(port):\n",
        "    command = subprocess.Popen(['qbittorrent-nox', f'--webui-port={port}'])\n",
        "\n",
        "def ngrok(port):\n",
        "    \n",
        "    ngrok_cmd = subprocess.Popen(['ngrok', 'http', str(port)])    \n",
        "    localhost_url = \"http://localhost:4040/api/tunnels\"\n",
        "\n",
        "    time.sleep(1)\n",
        "    tunnel_url = requests.get(localhost_url).text\n",
        "    json_data = json.loads(tunnel_url)\n",
        "\n",
        "    tunnel_url = json_data['tunnels'][0]['public_url']\n",
        "    tunnel_url = tunnel_url.replace(\"https\", \"http\")\n",
        "    print('Running at localhost: ' + str(port))\n",
        "    print(tunnel_url)\n",
        "\n",
        "if __name__ == '__main__':\n",
        "    \n",
        "    port = 9999\n",
        "\n",
        "    thread_torrent = threading.Thread(target = torrent, args=(int(port),))\n",
        "    thread_ngrok = threading.Thread(target = ngrok, args=(int(port),))\n",
        "\n",
        "    thread_torrent.start()\n",
        "    print('Torrent server started!')\n",
        "\n",
        "    time.sleep(5)\n",
        "    print('Establishing secure connection!')\n",
        "    \n",
        "    thread_ngrok.start()\n",
        "    print('Secure connection established...')\n",
        "    print('Username: admin')\n",
        "    print('password: adminadmin')\n",
        "    \n",
        "    thread_ngrok.join()\n",
        "    thread_torrent.join()\n",
        "\n",
        "print('Working...')\n",
        "while True:pass"
      ],
      "execution_count": null,
      "outputs": [
        {
          "output_type": "stream",
          "text": [
            "Torrent server started!\n",
            "Establishing secure connection!\n",
            "Secure connection established...\n",
            "Username: admin\n",
            "password: adminadmin\n",
            "Running at localhost: 9999\n",
            "http://77eb25587236.ngrok.io\n",
            "Working...\n"
          ],
          "name": "stdout"
        }
      ]
    }
  ]
}